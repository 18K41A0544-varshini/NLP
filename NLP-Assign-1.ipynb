{
 "cells": [
  {
   "cell_type": "code",
   "execution_count": 45,
   "metadata": {},
   "outputs": [],
   "source": [
    "s ='''Are you fascinated by the amount of text data available on the internet?\n",
    "Are you looking for ways to work with this text data but aren’t sure where to begin?\n",
    "Machines, after all, recognize numbers, not the letters of our language. \n",
    "And that can be a tricky landscape to navigate in machine learning.\n",
    "Solving an NLP problem is a multi-stage process. \n",
    "We need to clean the unstructured text data first before we can even think about getting to the modeling stage. \n",
    "Cleaning the data consists of a few key steps'''"
   ]
  },
  {
   "cell_type": "code",
   "execution_count": 46,
   "metadata": {},
   "outputs": [
    {
     "name": "stderr",
     "output_type": "stream",
     "text": [
      "[nltk_data] Downloading package punkt to\n",
      "[nltk_data]     C:\\Users\\varshini\\AppData\\Roaming\\nltk_data...\n",
      "[nltk_data]   Package punkt is already up-to-date!\n"
     ]
    },
    {
     "data": {
      "text/plain": [
       "True"
      ]
     },
     "execution_count": 46,
     "metadata": {},
     "output_type": "execute_result"
    }
   ],
   "source": [
    "nltk.download('punkt')"
   ]
  },
  {
   "cell_type": "code",
   "execution_count": 47,
   "metadata": {},
   "outputs": [
    {
     "name": "stdout",
     "output_type": "stream",
     "text": [
      "Are you fascinated by the amount of text data available on the internet?\n",
      "Are you looking for ways to work with this text data but aren’t sure where to begin?\n",
      "Machines, after all, recognize numbers, not the letters of our language.\n",
      "And that can be a tricky landscape to navigate in machine learning.\n",
      "Solving an NLP problem is a multi-stage process.\n",
      "We need to clean the unstructured text data first before we can even think about getting to the modeling stage.\n",
      "Cleaning the data consists of a few key steps\n"
     ]
    }
   ],
   "source": [
    "import nltk\n",
    "\n",
    "#a = nltk.tokenize.sent_tokenize(s)\n",
    "from nltk.tokenize import sent_tokenize\n",
    "token_text = sent_tokenize(s)\n",
    "#print(\"\\nSentence-tokenized copy in a list:\")\n",
    "#print(token_text)\n",
    "#print(\"\\nRead the list:\")\n",
    "for s in token_text:\n",
    "    print(s)\n",
    "\n"
   ]
  },
  {
   "cell_type": "code",
   "execution_count": 48,
   "metadata": {},
   "outputs": [
    {
     "name": "stdout",
     "output_type": "stream",
     "text": [
      "['Are', 'you', 'fascinated', 'by', 'the', 'amount', 'of', 'text', 'data', 'available', 'on', 'the', 'internet?', 'Are', 'you', 'looking', 'for', 'ways', 'to', 'work', 'with', 'this', 'text', 'data', 'but', 'aren’t', 'sure', 'where', 'to', 'begin?', 'Machines,', 'after', 'all,', 'recognize', 'numbers,', 'not', 'the', 'letters', 'of', 'our', 'language.', 'And', 'that', 'can', 'be', 'a', 'tricky', 'landscape', 'to', 'navigate', 'in', 'machine', 'learning.', 'Solving', 'an', 'NLP', 'problem', 'is', 'a', 'multi-stage', 'process.', 'We', 'need', 'to', 'clean', 'the', 'unstructured', 'text', 'data', 'first', 'before', 'we', 'can', 'even', 'think', 'about', 'getting', 'to', 'the', 'modeling', 'stage.', 'Cleaning', 'the', 'data', 'consists', 'of', 'a', 'few', 'key', 'steps']\n"
     ]
    }
   ],
   "source": [
    "print([i for item in token_text for i in item.split()])"
   ]
  },
  {
   "cell_type": "code",
   "execution_count": 49,
   "metadata": {},
   "outputs": [],
   "source": [
    "from nltk.stem import PorterStemmer\n",
    "from nltk.stem import LancasterStemmer"
   ]
  },
  {
   "cell_type": "code",
   "execution_count": 50,
   "metadata": {},
   "outputs": [
    {
     "name": "stdout",
     "output_type": "stream",
     "text": [
      "Porter Stemmer\n",
      "cat\n",
      "troubl\n",
      "troubl\n",
      "troubl\n",
      "have\n",
      "corriendo\n",
      "at\n",
      "wa\n",
      "Lancaster Stemmer\n",
      "cat\n",
      "troubl\n",
      "troubl\n",
      "troubl\n",
      "hav\n",
      "corriendo\n",
      "at\n",
      "was\n"
     ]
    }
   ],
   "source": [
    "porter = PorterStemmer()\n",
    "lancaster=LancasterStemmer()\n",
    "print(\"Porter Stemmer\")\n",
    "print(porter.stem(\"cats\"))\n",
    "print(porter.stem(\"trouble\"))\n",
    "print(porter.stem(\"troubling\"))\n",
    "print(porter.stem(\"troubled\"))\n",
    "print(porter.stem(\"having\"))\n",
    "print(porter.stem(\"Corriendo\"))\n",
    "print(porter.stem(\"at\"))\n",
    "print(porter.stem(\"was\"))\n",
    "\n",
    "\n",
    "print(\"Lancaster Stemmer\")\n",
    "print(lancaster.stem(\"cats\"))\n",
    "print(lancaster.stem(\"trouble\"))\n",
    "print(lancaster.stem(\"troubling\"))\n",
    "print(lancaster.stem(\"troubled\"))\n",
    "print(lancaster.stem(\"having\"))\n",
    "print(lancaster.stem(\"Corriendo\"))\n",
    "print(lancaster.stem(\"at\"))\n",
    "print(lancaster.stem(\"was\"))\n",
    "\n"
   ]
  },
  {
   "cell_type": "code",
   "execution_count": 51,
   "metadata": {},
   "outputs": [
    {
     "name": "stderr",
     "output_type": "stream",
     "text": [
      "[nltk_data] Downloading package wordnet to\n",
      "[nltk_data]     C:\\Users\\varshini\\AppData\\Roaming\\nltk_data...\n",
      "[nltk_data]   Package wordnet is already up-to-date!\n"
     ]
    },
    {
     "data": {
      "text/plain": [
       "True"
      ]
     },
     "execution_count": 51,
     "metadata": {},
     "output_type": "execute_result"
    }
   ],
   "source": [
    "from nltk.stem import WordNetLemmatizer\n",
    "nltk.download('wordnet') "
   ]
  },
  {
   "cell_type": "code",
   "execution_count": 52,
   "metadata": {},
   "outputs": [
    {
     "name": "stdout",
     "output_type": "stream",
     "text": [
      "The lemmatized words:  ['cat', 'trouble', 'troubling', 'troubled', 'having', 'Corriendo', 'at', 'wa']\n",
      "The lemmatized words using a POS tag:  ['cat', 'trouble', 'trouble', 'trouble', 'have', 'Corriendo', 'at', 'be']\n"
     ]
    }
   ],
   "source": [
    "words = [\"cats\",\"trouble\",\"troubling\",\"troubled\",\"having\",\"Corriendo\",\"at\",\"was\"]\n",
    "lemmatizer = WordNetLemmatizer()   \n",
    "\n",
    "#an instance of Word Net Lemmatizer\n",
    "lemmatized_words = [lemmatizer.lemmatize(word) for word in words] \n",
    "print(\"The lemmatized words: \", lemmatized_words) \n",
    "#prints the lemmatized words\n",
    "lemmatized_words_pos = [lemmatizer.lemmatize(word, pos = \"v\") for word in words]\n",
    "print(\"The lemmatized words using a POS tag: \", lemmatized_words_pos) \n",
    "#prints POS tagged lemmatized words"
   ]
  },
  {
   "cell_type": "code",
   "execution_count": 53,
   "metadata": {},
   "outputs": [],
   "source": [
    "s1=\"The NLTK library is one of the oldest and most commonly used Python libraries for Natural Language Processing. NLTK supports stop word removal, and you can find the list of stop words in the corpus module. To remove stop words from a sentence, you can divide your text into words and then remove the word if it exits in the list of stop words provided by NLTK.\""
   ]
  },
  {
   "cell_type": "code",
   "execution_count": 55,
   "metadata": {},
   "outputs": [
    {
     "name": "stderr",
     "output_type": "stream",
     "text": [
      "[nltk_data] Downloading package stopwords to\n",
      "[nltk_data]     C:\\Users\\varshini\\AppData\\Roaming\\nltk_data...\n",
      "[nltk_data]   Unzipping corpora\\stopwords.zip.\n"
     ]
    },
    {
     "data": {
      "text/plain": [
       "True"
      ]
     },
     "execution_count": 55,
     "metadata": {},
     "output_type": "execute_result"
    }
   ],
   "source": [
    "from nltk.corpus import stopwords\n",
    "from nltk.tokenize import word_tokenize\n",
    "import nltk\n",
    "nltk.download('stopwords')"
   ]
  },
  {
   "cell_type": "code",
   "execution_count": 60,
   "metadata": {},
   "outputs": [
    {
     "name": "stdout",
     "output_type": "stream",
     "text": [
      "['The', 'NLTK', 'library', 'is', 'one', 'of', 'the', 'oldest', 'and', 'most', 'commonly', 'used', 'Python', 'libraries', 'for', 'Natural', 'Language', 'Processing', '.', 'NLTK', 'supports', 'stop', 'word', 'removal', ',', 'and', 'you', 'can', 'find', 'the', 'list', 'of', 'stop', 'words', 'in', 'the', 'corpus', 'module', '.', 'To', 'remove', 'stop', 'words', 'from', 'a', 'sentence', ',', 'you', 'can', 'divide', 'your', 'text', 'into', 'words', 'and', 'then', 'remove', 'the', 'word', 'if', 'it', 'exits', 'in', 'the', 'list', 'of', 'stop', 'words', 'provided', 'by', 'NLTK', '.']\n"
     ]
    }
   ],
   "source": [
    "stop_words = set(stopwords.words('english'))\n",
    "word_tokens = word_tokenize(s1)\n",
    "print(word_tokens)"
   ]
  },
  {
   "cell_type": "code",
   "execution_count": 61,
   "metadata": {},
   "outputs": [
    {
     "name": "stdout",
     "output_type": "stream",
     "text": [
      "is\n",
      "of\n",
      "the\n",
      "and\n",
      "most\n",
      "for\n",
      "and\n",
      "you\n",
      "can\n",
      "the\n",
      "of\n",
      "in\n",
      "the\n",
      "from\n",
      "a\n",
      "you\n",
      "can\n",
      "your\n",
      "into\n",
      "and\n",
      "then\n",
      "the\n",
      "if\n",
      "it\n",
      "in\n",
      "the\n",
      "of\n",
      "by\n"
     ]
    }
   ],
   "source": [
    "for i in word_tokens:\n",
    "    if i in stop_words:\n",
    "        print(i)"
   ]
  },
  {
   "cell_type": "code",
   "execution_count": 62,
   "metadata": {},
   "outputs": [],
   "source": [
    "import nltk\n",
    "from nltk.corpus import webtext\n",
    "from nltk.probability import FreqDist"
   ]
  },
  {
   "cell_type": "code",
   "execution_count": 63,
   "metadata": {},
   "outputs": [
    {
     "name": "stderr",
     "output_type": "stream",
     "text": [
      "[nltk_data] Downloading package webtext to\n",
      "[nltk_data]     C:\\Users\\varshini\\AppData\\Roaming\\nltk_data...\n",
      "[nltk_data]   Unzipping corpora\\webtext.zip.\n"
     ]
    },
    {
     "data": {
      "text/plain": [
       "True"
      ]
     },
     "execution_count": 63,
     "metadata": {},
     "output_type": "execute_result"
    }
   ],
   "source": [
    "nltk.download('webtext')"
   ]
  },
  {
   "cell_type": "code",
   "execution_count": 64,
   "metadata": {},
   "outputs": [],
   "source": [
    "data_analysis = nltk.FreqDist(word_tokens)"
   ]
  },
  {
   "cell_type": "code",
   "execution_count": 66,
   "metadata": {},
   "outputs": [
    {
     "name": "stdout",
     "output_type": "stream",
     "text": [
      "Language: 1\n",
      "NLTK: 3\n",
      "Natural: 1\n",
      "Processing: 1\n",
      "Python: 1\n",
      "commonly: 1\n",
      "corpus: 1\n",
      "divide: 1\n",
      "exits: 1\n",
      "find: 1\n",
      "from: 1\n",
      "into: 1\n",
      "libraries: 1\n",
      "library: 1\n",
      "list: 2\n",
      "module: 1\n",
      "most: 1\n",
      "oldest: 1\n",
      "provided: 1\n",
      "removal: 1\n",
      "remove: 2\n",
      "sentence: 1\n",
      "stop: 4\n",
      "supports: 1\n",
      "text: 1\n",
      "then: 1\n",
      "used: 1\n",
      "word: 2\n",
      "words: 4\n",
      "your: 1\n"
     ]
    }
   ],
   "source": [
    "filter_words = dict([(m, n) for m, n in data_analysis.items() if len(m) > 3])\n",
    "\n",
    "for key in sorted(filter_words):\n",
    "    print(\"%s: %s\" % (key, filter_words[key]))\n",
    " \n",
    "data_analysis = nltk.FreqDist(filter_words)\n",
    " \n",
    "#data_analysis.plot(25, cumulative=False)"
   ]
  },
  {
   "cell_type": "code",
   "execution_count": null,
   "metadata": {},
   "outputs": [],
   "source": []
  }
 ],
 "metadata": {
  "kernelspec": {
   "display_name": "Python 3",
   "language": "python",
   "name": "python3"
  }
 },
 "nbformat": 4,
 "nbformat_minor": 2
}
