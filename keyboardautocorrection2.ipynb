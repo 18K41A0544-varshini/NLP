{
  "cells": [
    {
      "cell_type": "markdown",
      "metadata": {
        "id": "view-in-github",
        "colab_type": "text"
      },
      "source": [
        "<a href=\"https://colab.research.google.com/github/18K41A0544-varshini/NLP/blob/main/keyboardautocorrection2.ipynb\" target=\"_parent\"><img src=\"https://colab.research.google.com/assets/colab-badge.svg\" alt=\"Open In Colab\"/></a>"
      ]
    },
    {
      "cell_type": "code",
      "execution_count": 1,
      "metadata": {
        "colab": {
          "base_uri": "https://localhost:8080/"
        },
        "id": "SWLxWMwrGK1u",
        "outputId": "76d96b34-2556-4e83-938e-1888831f8628"
      },
      "outputs": [
        {
          "output_type": "stream",
          "name": "stdout",
          "text": [
            "Collecting textdistance\n",
            "  Downloading textdistance-4.2.2-py3-none-any.whl (28 kB)\n",
            "Installing collected packages: textdistance\n",
            "Successfully installed textdistance-4.2.2\n",
            "The first ten words in the text are: \n",
            "['the', 'project', 'gutenberg', 'ebook', 'of', 'moby', 'dick', 'or', 'the', 'whale']\n",
            "There are 17341 unique words in the vocabulary.\n"
          ]
        }
      ],
      "source": [
        "!pip install textdistance\n",
        "import pandas as pd\n",
        "import numpy as np\n",
        "import textdistance\n",
        "import re\n",
        "from collections import Counter\n",
        " \n",
        "words = [] \n",
        " \n",
        "with open('nlp-autocorrect-data.txt', 'r') as f:\n",
        "    file_name_data = f.read()\n",
        "    file_name_data=file_name_data.lower()\n",
        "    words = re.findall('\\w+',file_name_data)\n",
        " \n",
        "# This is our vocabulary\n",
        "V = set(words)\n",
        " \n",
        "print(f\"The first ten words in the text are: \\n{words[0:10]}\")\n",
        "print(f\"There are {len(V)} unique words in the vocabulary.\")"
      ]
    },
    {
      "cell_type": "code",
      "execution_count": 2,
      "metadata": {
        "colab": {
          "base_uri": "https://localhost:8080/"
        },
        "id": "7lPm5O13Ivem",
        "outputId": "49493b24-39e7-45ca-c53f-0f634b81c527"
      },
      "outputs": [
        {
          "output_type": "stream",
          "name": "stdout",
          "text": [
            "[('the', 14727), ('of', 6747), ('and', 6515), ('a', 4805), ('to', 4709), ('in', 4245), ('that', 3100), ('it', 2537), ('his', 2532), ('i', 2127)]\n"
          ]
        }
      ],
      "source": [
        "word_freq_dict = {}  \n",
        "word_freq_dict = Counter(words)  \n",
        " \n",
        "print(word_freq_dict.most_common()[0:10])"
      ]
    },
    {
      "cell_type": "code",
      "execution_count": 3,
      "metadata": {
        "id": "5l3bDv8tJpc-"
      },
      "outputs": [],
      "source": [
        "probs = {} \n",
        "     \n",
        "Total = sum(word_freq_dict.values())\n",
        "     \n",
        "for k in word_freq_dict.keys():\n",
        "    probs[k] = word_freq_dict[k]/Total\n",
        "  "
      ]
    },
    {
      "cell_type": "code",
      "execution_count": 4,
      "metadata": {
        "colab": {
          "base_uri": "https://localhost:8080/"
        },
        "id": "t6iI9Vp8KNxM",
        "outputId": "89029fab-54ef-4701-f9c8-b4a408b91322"
      },
      "outputs": [
        {
          "output_type": "stream",
          "name": "stdout",
          "text": [
            "[nltk_data] Downloading package wordnet to /root/nltk_data...\n",
            "[nltk_data]   Unzipping corpora/wordnet.zip.\n"
          ]
        }
      ],
      "source": [
        "import nltk\n",
        "nltk.download('wordnet')\n",
        "from nltk.corpus import wordnet as wn\n",
        "#synset1.wup_similarity(synset2)"
      ]
    },
    {
      "cell_type": "markdown",
      "metadata": {
        "id": "BzQ5soBCRExj"
      },
      "source": [
        ""
      ]
    },
    {
      "cell_type": "code",
      "execution_count": 5,
      "metadata": {
        "colab": {
          "base_uri": "https://localhost:8080/"
        },
        "id": "Ol5cUlaSPTSq",
        "outputId": "050226bf-4afe-4a35-92bd-254d109b5399"
      },
      "outputs": [
        {
          "output_type": "execute_result",
          "data": {
            "text/plain": [
              "0.2"
            ]
          },
          "metadata": {},
          "execution_count": 5
        }
      ],
      "source": [
        "dog=wn.synsets('dog')\n",
        "cat=wn.synsets('cat')\n",
        "#print(dog)\n",
        "dog = wn.synset('dog.n.01')\n",
        "cat = wn.synset('cat.n.01')\n",
        "wn.path_similarity(dog,cat)"
      ]
    },
    {
      "cell_type": "code",
      "execution_count": 6,
      "metadata": {
        "colab": {
          "base_uri": "https://localhost:8080/"
        },
        "id": "mr62cd9vRSbW",
        "outputId": "be60a7af-8c5f-4813-cd0d-9914cf9eed64"
      },
      "outputs": [
        {
          "output_type": "stream",
          "name": "stdout",
          "text": [
            "Synset('necessity.n.02')\n",
            "Synset('duty.n.01')\n"
          ]
        },
        {
          "output_type": "execute_result",
          "data": {
            "text/plain": [
              "0.18181818181818182"
            ]
          },
          "metadata": {},
          "execution_count": 6
        }
      ],
      "source": [
        "from nltk.corpus import wordnet\n",
        " \n",
        "syn1 = wordnet.synsets('necessary')[0]\n",
        "print(syn1)\n",
        "syn2 = wordnet.synsets('responsibility')[0]\n",
        "print(syn2)\n",
        "syn1.wup_similarity(syn2)\n"
      ]
    },
    {
      "cell_type": "code",
      "execution_count": 7,
      "metadata": {
        "colab": {
          "base_uri": "https://localhost:8080/"
        },
        "id": "egAI4ZyhM18w",
        "outputId": "efffc3ff-e73b-4009-a199-6217e75d006b"
      },
      "outputs": [
        {
          "output_type": "stream",
          "name": "stdout",
          "text": [
            "[nltk_data] Downloading package wordnet to /root/nltk_data...\n",
            "[nltk_data]   Package wordnet is already up-to-date!\n"
          ]
        },
        {
          "output_type": "execute_result",
          "data": {
            "text/plain": [
              "True"
            ]
          },
          "metadata": {},
          "execution_count": 7
        }
      ],
      "source": [
        "nltk.download('wordnet')"
      ]
    },
    {
      "cell_type": "code",
      "execution_count": 15,
      "metadata": {
        "id": "2v8uhZfuJuH4"
      },
      "outputs": [],
      "source": [
        "def my_autocorrect(input_word):\n",
        "    #print(input_word)\n",
        "    #syn1 = wordnet.synsets(input_word)[0]   \n",
        "    #syn11.append(syn1)\n",
        "    #print(syn1)\n",
        "    input_word = input_word.lower()\n",
        "    \n",
        "    if input_word in V:\n",
        "        return('Your word seems to be correct')\n",
        "    #else:\n",
        "     #   for v in word_freq_dict.keys():\n",
        "          #print(\"v\",v)\n",
        "      #    if v!='the':\n",
        "       #     print(v)\n",
        "        #    syn2 = wordnet.synsets(v)[0]\n",
        "          #syn21.append(syn2)\n",
        "         #   print(\"syn2:\",syn2)\n",
        "          #similarities=syn11.wup_similarity(syn21)\n",
        "            #similarities=wn.path_similarity(syn1,syn2)\n",
        "    else:\n",
        "      similarities = [1-(textdistance.Jaccard(qval=2).distance(v,input_word)) for v in word_freq_dict.keys()]\n",
        "\n",
        "        #similarities = [wn.path_similarity(input_word,v) for v in word_freq_dict.keys()]\n",
        "           #similarities= input_word.wup_similarity(v)\n",
        "           #syn1.wup_similarity(syn2)\n",
        "           #similarities= wn.path_similarity(input_word,v)\n",
        "      df = pd.DataFrame.from_dict(probs, orient='index').reset_index()\n",
        "      df = df.rename(columns={'index':'Word', 0:'Prob'})\n",
        "      df['Similarity'] = similarities\n",
        "      output = df.sort_values(['Similarity', 'Prob'], ascending=False).head()\n",
        "      return(output)"
      ]
    },
    {
      "cell_type": "code",
      "execution_count": 16,
      "metadata": {
        "colab": {
          "base_uri": "https://localhost:8080/",
          "height": 206
        },
        "id": "me7LKg0tJyzH",
        "outputId": "11ba77c0-4a2a-4998-b033-b1602cc91c3c"
      },
      "outputs": [
        {
          "output_type": "execute_result",
          "data": {
            "text/html": [
              "<div>\n",
              "<style scoped>\n",
              "    .dataframe tbody tr th:only-of-type {\n",
              "        vertical-align: middle;\n",
              "    }\n",
              "\n",
              "    .dataframe tbody tr th {\n",
              "        vertical-align: top;\n",
              "    }\n",
              "\n",
              "    .dataframe thead th {\n",
              "        text-align: right;\n",
              "    }\n",
              "</style>\n",
              "<table border=\"1\" class=\"dataframe\">\n",
              "  <thead>\n",
              "    <tr style=\"text-align: right;\">\n",
              "      <th></th>\n",
              "      <th>Word</th>\n",
              "      <th>Prob</th>\n",
              "      <th>Similarity</th>\n",
              "    </tr>\n",
              "  </thead>\n",
              "  <tbody>\n",
              "    <tr>\n",
              "      <th>1098</th>\n",
              "      <td>never</td>\n",
              "      <td>0.000925</td>\n",
              "      <td>0.750000</td>\n",
              "    </tr>\n",
              "    <tr>\n",
              "      <th>4257</th>\n",
              "      <td>eve</td>\n",
              "      <td>0.000018</td>\n",
              "      <td>0.666667</td>\n",
              "    </tr>\n",
              "    <tr>\n",
              "      <th>15893</th>\n",
              "      <td>uneven</td>\n",
              "      <td>0.000004</td>\n",
              "      <td>0.600000</td>\n",
              "    </tr>\n",
              "    <tr>\n",
              "      <th>477</th>\n",
              "      <td>ever</td>\n",
              "      <td>0.000925</td>\n",
              "      <td>0.500000</td>\n",
              "    </tr>\n",
              "    <tr>\n",
              "      <th>648</th>\n",
              "      <td>even</td>\n",
              "      <td>0.000867</td>\n",
              "      <td>0.500000</td>\n",
              "    </tr>\n",
              "  </tbody>\n",
              "</table>\n",
              "</div>"
            ],
            "text/plain": [
              "         Word      Prob  Similarity\n",
              "1098    never  0.000925    0.750000\n",
              "4257      eve  0.000018    0.666667\n",
              "15893  uneven  0.000004    0.600000\n",
              "477      ever  0.000925    0.500000\n",
              "648      even  0.000867    0.500000"
            ]
          },
          "metadata": {},
          "execution_count": 16
        }
      ],
      "source": [
        "my_autocorrect('neve')"
      ]
    },
    {
      "cell_type": "code",
      "execution_count": 17,
      "metadata": {
        "colab": {
          "base_uri": "https://localhost:8080/",
          "height": 206
        },
        "id": "JUB4qGfbJ2cs",
        "outputId": "5516a70d-8fb1-4214-dd91-8ff557b3d722"
      },
      "outputs": [
        {
          "output_type": "execute_result",
          "data": {
            "text/html": [
              "<div>\n",
              "<style scoped>\n",
              "    .dataframe tbody tr th:only-of-type {\n",
              "        vertical-align: middle;\n",
              "    }\n",
              "\n",
              "    .dataframe tbody tr th {\n",
              "        vertical-align: top;\n",
              "    }\n",
              "\n",
              "    .dataframe thead th {\n",
              "        text-align: right;\n",
              "    }\n",
              "</style>\n",
              "<table border=\"1\" class=\"dataframe\">\n",
              "  <thead>\n",
              "    <tr style=\"text-align: right;\">\n",
              "      <th></th>\n",
              "      <th>Word</th>\n",
              "      <th>Prob</th>\n",
              "      <th>Similarity</th>\n",
              "    </tr>\n",
              "  </thead>\n",
              "  <tbody>\n",
              "    <tr>\n",
              "      <th>6767</th>\n",
              "      <td>necessary</td>\n",
              "      <td>0.000031</td>\n",
              "      <td>0.545455</td>\n",
              "    </tr>\n",
              "    <tr>\n",
              "      <th>4354</th>\n",
              "      <td>unnecessary</td>\n",
              "      <td>0.000027</td>\n",
              "      <td>0.461538</td>\n",
              "    </tr>\n",
              "    <tr>\n",
              "      <th>14177</th>\n",
              "      <td>caressed</td>\n",
              "      <td>0.000004</td>\n",
              "      <td>0.454545</td>\n",
              "    </tr>\n",
              "    <tr>\n",
              "      <th>2097</th>\n",
              "      <td>seneca</td>\n",
              "      <td>0.000004</td>\n",
              "      <td>0.400000</td>\n",
              "    </tr>\n",
              "    <tr>\n",
              "      <th>16795</th>\n",
              "      <td>caress</td>\n",
              "      <td>0.000004</td>\n",
              "      <td>0.400000</td>\n",
              "    </tr>\n",
              "  </tbody>\n",
              "</table>\n",
              "</div>"
            ],
            "text/plain": [
              "              Word      Prob  Similarity\n",
              "6767     necessary  0.000031    0.545455\n",
              "4354   unnecessary  0.000027    0.461538\n",
              "14177     caressed  0.000004    0.454545\n",
              "2097        seneca  0.000004    0.400000\n",
              "16795       caress  0.000004    0.400000"
            ]
          },
          "metadata": {},
          "execution_count": 17
        }
      ],
      "source": [
        "my_autocorrect('nesseccary')"
      ]
    },
    {
      "cell_type": "code",
      "execution_count": 18,
      "metadata": {
        "colab": {
          "base_uri": "https://localhost:8080/",
          "height": 206
        },
        "id": "wJImzzlTJ6gZ",
        "outputId": "b58d85df-25e2-4589-dd13-29ca6faf534c"
      },
      "outputs": [
        {
          "output_type": "execute_result",
          "data": {
            "text/html": [
              "<div>\n",
              "<style scoped>\n",
              "    .dataframe tbody tr th:only-of-type {\n",
              "        vertical-align: middle;\n",
              "    }\n",
              "\n",
              "    .dataframe tbody tr th {\n",
              "        vertical-align: top;\n",
              "    }\n",
              "\n",
              "    .dataframe thead th {\n",
              "        text-align: right;\n",
              "    }\n",
              "</style>\n",
              "<table border=\"1\" class=\"dataframe\">\n",
              "  <thead>\n",
              "    <tr style=\"text-align: right;\">\n",
              "      <th></th>\n",
              "      <th>Word</th>\n",
              "      <th>Prob</th>\n",
              "      <th>Similarity</th>\n",
              "    </tr>\n",
              "  </thead>\n",
              "  <tbody>\n",
              "    <tr>\n",
              "      <th>17222</th>\n",
              "      <td>user</td>\n",
              "      <td>0.000013</td>\n",
              "      <td>0.666667</td>\n",
              "    </tr>\n",
              "    <tr>\n",
              "      <th>10851</th>\n",
              "      <td>seer</td>\n",
              "      <td>0.000009</td>\n",
              "      <td>0.666667</td>\n",
              "    </tr>\n",
              "    <tr>\n",
              "      <th>1256</th>\n",
              "      <td>er</td>\n",
              "      <td>0.000031</td>\n",
              "      <td>0.500000</td>\n",
              "    </tr>\n",
              "    <tr>\n",
              "      <th>8043</th>\n",
              "      <td>serve</td>\n",
              "      <td>0.000027</td>\n",
              "      <td>0.500000</td>\n",
              "    </tr>\n",
              "    <tr>\n",
              "      <th>14938</th>\n",
              "      <td>miser</td>\n",
              "      <td>0.000009</td>\n",
              "      <td>0.500000</td>\n",
              "    </tr>\n",
              "  </tbody>\n",
              "</table>\n",
              "</div>"
            ],
            "text/plain": [
              "        Word      Prob  Similarity\n",
              "17222   user  0.000013    0.666667\n",
              "10851   seer  0.000009    0.666667\n",
              "1256      er  0.000031    0.500000\n",
              "8043   serve  0.000027    0.500000\n",
              "14938  miser  0.000009    0.500000"
            ]
          },
          "metadata": {},
          "execution_count": 18
        }
      ],
      "source": [
        "my_autocorrect('ser')"
      ]
    },
    {
      "cell_type": "code",
      "execution_count": null,
      "metadata": {
        "id": "6M0Vwm_yKBOc"
      },
      "outputs": [],
      "source": [
        ""
      ]
    }
  ],
  "metadata": {
    "colab": {
      "name": "Untitled5.ipynb",
      "provenance": [],
      "authorship_tag": "ABX9TyNbIoVCjlzFX8/cuO1ayd8T",
      "include_colab_link": true
    },
    "kernelspec": {
      "display_name": "Python 3",
      "name": "python3"
    },
    "language_info": {
      "name": "python"
    }
  },
  "nbformat": 4,
  "nbformat_minor": 0
}